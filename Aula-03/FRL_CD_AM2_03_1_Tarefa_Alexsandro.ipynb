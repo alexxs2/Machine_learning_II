{
  "cells": [
    {
      "cell_type": "markdown",
      "metadata": {
        "id": "kO-PthiwnsZJ"
      },
      "source": [
        "# Aula 3.1(2): Classificação: Dataset Titanic\n",
        "Objetivo: Prever se um passageiro sobreviveu ao naufrágio do Titanic (classificação binária)\n",
        "\n",
        "Passos:\n",
        "1. Carregamento e Exploração dos Dados.\n",
        "2. Pré-processamento: tratar valores ausentes (missing values); codificar variáveis categóricas; criar novas features (feature engineering).\n",
        "3. Treinamento de Modelos: modelo base: Regressão Logística; modelos avançados: Random Forest e Gradient Boosting.\n",
        "4. Ajuste de Hiperparâmetros: usar GridSearchCV para otimizar o Random Forest.\n",
        "5. Ensemble Learning: combinar previsões com VotingClassifier.\n",
        "6. Avaliação e Visualização: matriz de confusão e métricas detalhadas."
      ]
    },
    {
      "cell_type": "markdown",
      "metadata": {
        "id": "tSKQABk4xZoL"
      },
      "source": [
        "## Roteiro de execução"
      ]
    },
    {
      "cell_type": "markdown",
      "metadata": {
        "id": "X-U3LVeKVKhE"
      },
      "source": [
        "1. Carregamento e Exploração dos Dados"
      ]
    },
    {
      "cell_type": "code",
      "execution_count": 1,
      "metadata": {
        "colab": {
          "base_uri": "https://localhost:8080/",
          "height": 1000
        },
        "id": "wn_kbdH5nop6",
        "outputId": "88564c65-afcd-4f04-fdbb-cc7e304bdc41"
      },
      "outputs": [
        {
          "name": "stdout",
          "output_type": "stream",
          "text": [
            "   survived  pclass     sex   age  sibsp  parch     fare embarked  class  \\\n",
            "0         0       3    male  22.0      1      0   7.2500        S  Third   \n",
            "1         1       1  female  38.0      1      0  71.2833        C  First   \n",
            "2         1       3  female  26.0      0      0   7.9250        S  Third   \n",
            "3         1       1  female  35.0      1      0  53.1000        S  First   \n",
            "4         0       3    male  35.0      0      0   8.0500        S  Third   \n",
            "\n",
            "     who  adult_male deck  embark_town alive  alone  \n",
            "0    man        True  NaN  Southampton    no  False  \n",
            "1  woman       False    C    Cherbourg   yes  False  \n",
            "2  woman       False  NaN  Southampton   yes   True  \n",
            "3  woman       False    C  Southampton   yes  False  \n",
            "4    man        True  NaN  Southampton    no   True  \n",
            "<class 'pandas.core.frame.DataFrame'>\n",
            "RangeIndex: 891 entries, 0 to 890\n",
            "Data columns (total 15 columns):\n",
            " #   Column       Non-Null Count  Dtype   \n",
            "---  ------       --------------  -----   \n",
            " 0   survived     891 non-null    int64   \n",
            " 1   pclass       891 non-null    int64   \n",
            " 2   sex          891 non-null    object  \n",
            " 3   age          714 non-null    float64 \n",
            " 4   sibsp        891 non-null    int64   \n",
            " 5   parch        891 non-null    int64   \n",
            " 6   fare         891 non-null    float64 \n",
            " 7   embarked     889 non-null    object  \n",
            " 8   class        891 non-null    category\n",
            " 9   who          891 non-null    object  \n",
            " 10  adult_male   891 non-null    bool    \n",
            " 11  deck         203 non-null    category\n",
            " 12  embark_town  889 non-null    object  \n",
            " 13  alive        891 non-null    object  \n",
            " 14  alone        891 non-null    bool    \n",
            "dtypes: bool(2), category(2), float64(2), int64(4), object(5)\n",
            "memory usage: 80.7+ KB\n",
            "None\n"
          ]
        },
        {
          "data": {
            "image/png": "[encoded data removed]",
            "text/plain": [
              "<Figure size 640x480 with 1 Axes>"
            ]
          },
          "metadata": {},
          "output_type": "display_data"
        }
      ],
      "source": [
        "import pandas as pd\n",
        "import seaborn as sns\n",
        "import matplotlib.pyplot as plt\n",
        "\n",
        "# Carregar o dataset Titanic do seaborn\n",
        "# https://github.com/mwaskom/seaborn-data/blob/master/titanic.csv\n",
        "df = sns.load_dataset('titanic')\n",
        "\n",
        "# Visualizar as primeiras linhas\n",
        "print(df.head())\n",
        "\n",
        "# Resumo básico\n",
        "print(df.info())\n",
        "\n",
        "# Visualizar distribuição da variável alvo\n",
        "sns.countplot(x='survived', data=df)\n",
        "plt.title('Distribuição de Sobreviventes')\n",
        "plt.show()"
      ]
    },
    {
      "cell_type": "markdown",
      "metadata": {
        "id": "RsEPca12sUbH"
      },
      "source": [
        "2. Pré-processamento\n",
        "- Tratar valores ausentes (missing values).\n",
        "- Codificar variáveis categóricas.\n",
        "- Criar novas features (feature engineering)."
      ]
    },
    {
      "cell_type": "code",
      "execution_count": 2,
      "metadata": {
        "id": "TOAwkfHanyNH"
      },
      "outputs": [],
      "source": [
        "# Tratar valores ausentes\n",
        "df['age'] = df['age'].fillna(df['age'].median())\n",
        "df['embarked'] = df['embarked'].fillna(df['embarked'].mode()[0])\n",
        "\n",
        "# Codificar variáveis categóricas\n",
        "df = pd.get_dummies(df, columns=['sex', 'embarked','who'], drop_first=True)\n",
        "\n",
        "# Garantindo que a variável 'alone' esteja no formato correto(1|0) para os modelos\n",
        "df['alone'] = df['alone'].astype(int)\n",
        "\n",
        "# Feature engineering: criar variável 'family_size'\n",
        "df['family_size'] = df['sibsp'] + df['parch'] + 1\n",
        "\n",
        "# Selecionar features e alvo\n",
        "X = df[['pclass', 'age', 'fare', 'family_size', 'sex_male', 'embarked_Q', 'embarked_S','alone','who_man', 'who_woman']]\n",
        "y = df['survived']"
      ]
    },
    {
      "cell_type": "markdown",
      "metadata": {
        "id": "c4ncQ21ZsYfh"
      },
      "source": [
        "3. Treinamento de Modelos\n",
        "- Modelo base: Regressão Logística.\n",
        "- Modelos avançados: Random Forest e Gradient Boosting."
      ]
    },
    {
      "cell_type": "code",
      "execution_count": 9,
      "metadata": {
        "colab": {
          "base_uri": "https://localhost:8080/"
        },
        "id": "YUCYPOlwrs9V",
        "outputId": "d149d280-4c71-4079-9911-27448342a45a"
      },
      "outputs": [
        {
          "name": "stdout",
          "output_type": "stream",
          "text": [
            "Acurácia Regressão Logística: 0.8100558659217877\n",
            "Acurácia Random Forest: 0.8156424581005587\n",
            "Acurácia Gradient Boosting: 0.8268156424581006\n"
          ]
        }
      ],
      "source": [
        "from sklearn.model_selection import train_test_split\n",
        "from sklearn.linear_model import LogisticRegression\n",
        "from sklearn.ensemble import RandomForestClassifier, GradientBoostingClassifier\n",
        "from sklearn.metrics import accuracy_score, classification_report\n",
        "\n",
        "# Dividir os dados\n",
        "X_train, X_test, y_train, y_test = train_test_split(X, y, test_size=0.2, random_state=42)\n",
        "\n",
        "# Modelo base: Regressão Logística\n",
        "log_reg = LogisticRegression(max_iter=1000)\n",
        "log_reg.fit(X_train, y_train)\n",
        "y_pred_log = log_reg.predict(X_test)\n",
        "print(\"Acurácia Regressão Logística:\", accuracy_score(y_test, y_pred_log))\n",
        "\n",
        "# Random Forest\n",
        "rf = RandomForestClassifier(n_estimators=200, max_depth=10, random_state=42)\n",
        "rf.fit(X_train, y_train)\n",
        "y_pred_rf = rf.predict(X_test)\n",
        "print(\"Acurácia Random Forest:\", accuracy_score(y_test, y_pred_rf))\n",
        "\n",
        "# Gradient Boosting\n",
        "gb = GradientBoostingClassifier(n_estimators=100, random_state=42)\n",
        "gb.fit(X_train, y_train)\n",
        "y_pred_gb = gb.predict(X_test)\n",
        "print(\"Acurácia Gradient Boosting:\", accuracy_score(y_test, y_pred_gb))"
      ]
    },
    {
      "cell_type": "markdown",
      "metadata": {
        "id": "McZTxi5Ssblj"
      },
      "source": [
        "4. Ajuste de Hiperparâmetros\n",
        "- Usar GridSearchCV para otimizar o Random Forest."
      ]
    },
    {
      "cell_type": "code",
      "execution_count": 4,
      "metadata": {
        "colab": {
          "base_uri": "https://localhost:8080/"
        },
        "id": "DhKeAcodrxXJ",
        "outputId": "05a34552-32b2-4621-854a-f82fa8e7218d"
      },
      "outputs": [
        {
          "name": "stdout",
          "output_type": "stream",
          "text": [
            "Melhores parâmetros: {'max_depth': 10, 'n_estimators': 200}\n",
            "Melhor acurácia: 0.8216389244558258\n"
          ]
        }
      ],
      "source": [
        "from sklearn.model_selection import GridSearchCV\n",
        "\n",
        "param_grid = {\n",
        "    'n_estimators': [50, 100, 200],\n",
        "    'max_depth': [None, 10, 20]\n",
        "}\n",
        "grid_search = GridSearchCV(RandomForestClassifier(random_state=42), param_grid, cv=5)\n",
        "grid_search.fit(X_train, y_train)\n",
        "print(\"Melhores parâmetros:\", grid_search.best_params_)\n",
        "print(\"Melhor acurácia:\", grid_search.best_score_)"
      ]
    },
    {
      "cell_type": "markdown",
      "metadata": {
        "id": "anoIlWSqsgaH"
      },
      "source": [
        "5. Ensemble Learning\n",
        "- Combinar previsões com VotingClassifier."
      ]
    },
    {
      "cell_type": "code",
      "execution_count": 10,
      "metadata": {
        "colab": {
          "base_uri": "https://localhost:8080/"
        },
        "id": "Bpx9tofFr3WX",
        "outputId": "a37fd2be-83ae-4297-9cbe-eeb142a6c573"
      },
      "outputs": [
        {
          "name": "stdout",
          "output_type": "stream",
          "text": [
            "Acurácia Voting Classifier: 0.8324022346368715\n"
          ]
        }
      ],
      "source": [
        "from sklearn.ensemble import VotingClassifier\n",
        "\n",
        "voting_clf = VotingClassifier(\n",
        "    estimators=[('rf', rf), ('gb', gb), ('lr', log_reg)],\n",
        "    voting='hard'\n",
        ")\n",
        "voting_clf.fit(X_train, y_train)\n",
        "y_pred_voting = voting_clf.predict(X_test)\n",
        "print(\"Acurácia Voting Classifier:\", accuracy_score(y_test, y_pred_voting))"
      ]
    },
    {
      "cell_type": "markdown",
      "metadata": {
        "id": "SGcpV3cAskO9"
      },
      "source": [
        "6. Avaliação e Visualização\n",
        "- Matriz de confusão e métricas detalhadas."
      ]
    },
    {
      "cell_type": "code",
      "execution_count": 11,
      "metadata": {
        "colab": {
          "base_uri": "https://localhost:8080/",
          "height": 628
        },
        "id": "8_tekRaGsmLb",
        "outputId": "b874e758-445d-44ef-f66b-d6d73137162a"
      },
      "outputs": [
        {
          "data": {
            "image/png": "[encoded data removed]",
            "text/plain": [
              "<Figure size 640x480 with 2 Axes>"
            ]
          },
          "metadata": {},
          "output_type": "display_data"
        },
        {
          "name": "stdout",
          "output_type": "stream",
          "text": [
            "              precision    recall  f1-score   support\n",
            "\n",
            "           0       0.84      0.88      0.86       105\n",
            "           1       0.81      0.76      0.78        74\n",
            "\n",
            "    accuracy                           0.83       179\n",
            "   macro avg       0.82      0.82      0.82       179\n",
            "weighted avg       0.83      0.83      0.83       179\n",
            "\n"
          ]
        }
      ],
      "source": [
        "from sklearn.metrics import confusion_matrix, ConfusionMatrixDisplay\n",
        "\n",
        "cm = confusion_matrix(y_test, y_pred_gb)\n",
        "disp = ConfusionMatrixDisplay(confusion_matrix=cm)\n",
        "disp.plot()\n",
        "plt.title('Matriz de Confusão - Gradient Boosting')\n",
        "plt.show()\n",
        "\n",
        "print(classification_report(y_test, y_pred_gb))"
      ]
    },
    {
      "cell_type": "markdown",
      "metadata": {
        "id": "9qvxpCP_so6J"
      },
      "source": [
        "## Exercício"
      ]
    },
    {
      "cell_type": "markdown",
      "metadata": {
        "id": "Yw1tqc5LxglV"
      },
      "source": [
        "Tente melhorar o modelo Gradient Boosting adicionando uma nova feature (ex.: extrair título do nome dos passageiros). Comente suas ações e quais resultados obteve.\n",
        "\n",
        "Adicionando três novas features (alone, who_man e who_woman) para ajudar os modelos a identificar melhor se as características do passageiro(a),no caso ser homem ou mulher e viajar sozinho ou não. Se elas ajudavam no seu desempenho para classificar de forma correta a variável alvo (survived).Com isso, vemos que todos os modelos foram afetados, o que já era esperado. Dois foram beneficiados, aumentando sua acurácia, como a Regressão Logística e o Gradient Boosting, enquanto o Random Forest foi prejudicado, reduzindo sua acurácia, O Gradient Boosting, em especial, apresentou uma melhoria, pois com essas novas features conseguiu classificar corretamente mais sobreviventes. Antes, classificava corretamente 51 pessoas que realmente sobreviveram, agora, classifica 56. No entanto, cometeu um pequeno erro a mais na classificação dos não sobreviventes, no caso antes, classificava corretamente 93 pessoas que não sobreviveram, agora, classifica 92, sua acurácia geral aumentou de 80% para 83%.\n"
      ]
    }
  ],
  "metadata": {
    "colab": {
      "provenance": []
    },
    "kernelspec": {
      "display_name": "Python 3",
      "name": "python3"
    },
    "language_info": {
      "name": "python"
    }
  },
  "nbformat": 4,
  "nbformat_minor": 0
}
