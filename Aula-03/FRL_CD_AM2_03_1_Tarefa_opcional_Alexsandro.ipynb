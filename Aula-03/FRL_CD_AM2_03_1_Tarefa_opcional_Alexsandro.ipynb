{
  "nbformat": 4,
  "nbformat_minor": 0,
  "metadata": {
    "colab": {
      "provenance": []
    },
    "kernelspec": {
      "name": "python3",
      "display_name": "Python 3"
    },
    "language_info": {
      "name": "python"
    }
  },
  "cells": [
    {
      "cell_type": "markdown",
      "source": [
        "# Aula 3.1(2): Classificação: Dataset Titanic\n",
        "Objetivo: Prever se um passageiro sobreviveu ao naufrágio do Titanic (classificação binária)\n",
        "\n",
        "Passos:\n",
        "1. Carregamento e Exploração dos Dados.\n",
        "2. Pré-processamento: tratar valores ausentes (missing values); codificar variáveis categóricas; criar novas features (feature engineering).\n",
        "3. Treinamento de Modelos: modelo base: Regressão Logística; modelos avançados: Random Forest e Gradient Boosting.\n",
        "4. Ajuste de Hiperparâmetros: usar GridSearchCV para otimizar o Random Forest.\n",
        "5. Ensemble Learning: combinar previsões com VotingClassifier.\n",
        "6. Avaliação e Visualização: matriz de confusão e métricas detalhadas."
      ],
      "metadata": {
        "id": "kO-PthiwnsZJ"
      }
    },
    {
      "cell_type": "markdown",
      "source": [
        "## Roteiro de execução"
      ],
      "metadata": {
        "id": "tSKQABk4xZoL"
      }
    },
    {
      "cell_type": "markdown",
      "source": [
        "1. Carregamento e Exploração dos Dados"
      ],
      "metadata": {
        "id": "X-U3LVeKVKhE"
      }
    },
    {
      "cell_type": "code",
      "source": [
        "import pandas as pd\n",
        "import seaborn as sns\n",
        "import matplotlib.pyplot as plt\n",
        "\n",
        "df = sns.load_dataset('iris')\n",
        "\n",
        "# Visualizar as primeiras linhas\n",
        "print(df.head())\n",
        "\n",
        "# Resumo básico\n",
        "print(df.info())\n",
        "\n",
        "print()\n",
        "print(\"Valores ausentes no df:\\n\", df.isna().sum())\n",
        "print()\n",
        "\n",
        "#Visualizar distribuição da variável alvo\n",
        "sns.countplot(x='species', data=df)\n",
        "plt.title('Distribuição das especies')"
      ],
      "metadata": {
        "colab": {
          "base_uri": "https://localhost:8080/",
          "height": 976
        },
        "id": "wn_kbdH5nop6",
        "outputId": "cd6d8430-9433-4875-a87d-460cc80f947b"
      },
      "execution_count": 23,
      "outputs": [
        {
          "output_type": "stream",
          "name": "stdout",
          "text": [
            "   sepal_length  sepal_width  petal_length  petal_width species\n",
            "0           5.1          3.5           1.4          0.2  setosa\n",
            "1           4.9          3.0           1.4          0.2  setosa\n",
            "2           4.7          3.2           1.3          0.2  setosa\n",
            "3           4.6          3.1           1.5          0.2  setosa\n",
            "4           5.0          3.6           1.4          0.2  setosa\n",
            "<class 'pandas.core.frame.DataFrame'>\n",
            "RangeIndex: 150 entries, 0 to 149\n",
            "Data columns (total 5 columns):\n",
            " #   Column        Non-Null Count  Dtype  \n",
            "---  ------        --------------  -----  \n",
            " 0   sepal_length  150 non-null    float64\n",
            " 1   sepal_width   150 non-null    float64\n",
            " 2   petal_length  150 non-null    float64\n",
            " 3   petal_width   150 non-null    float64\n",
            " 4   species       150 non-null    object \n",
            "dtypes: float64(4), object(1)\n",
            "memory usage: 6.0+ KB\n",
            "None\n",
            "\n",
            "Valores ausentes no df:\n",
            " sepal_length    0\n",
            "sepal_width     0\n",
            "petal_length    0\n",
            "petal_width     0\n",
            "species         0\n",
            "dtype: int64\n",
            "\n"
          ]
        },
        {
          "output_type": "execute_result",
          "data": {
            "text/plain": [
              "Text(0.5, 1.0, 'Distribuição das especies')"
            ]
          },
          "metadata": {},
          "execution_count": 23
        },
        {
          "output_type": "display_data",
          "data": {
            "text/plain": [
              "<Figure size 640x480 with 1 Axes>"
            ],
            "image/png": "[encoded data removed]"
          },
          "metadata": {}
        }
      ]
    },
    {
      "cell_type": "markdown",
      "source": [
        "2. Pré-processamento\n",
        "- Tratar valores ausentes (missing values).\n",
        "- Codificar variáveis categóricas.\n",
        "- Criar novas features (feature engineering)."
      ],
      "metadata": {
        "id": "RsEPca12sUbH"
      }
    },
    {
      "cell_type": "code",
      "source": [
        "# Selecionar features e alvo\n",
        "X = df[['sepal_length', 'sepal_width', 'petal_length', 'petal_width']]\n",
        "y = df['species']"
      ],
      "metadata": {
        "id": "TOAwkfHanyNH"
      },
      "execution_count": 24,
      "outputs": []
    },
    {
      "cell_type": "markdown",
      "source": [
        "3. Treinamento de Modelos\n",
        "- Modelo base: Regressão Logística.\n",
        "- Modelos avançados: Random Forest e Gradient Boosting."
      ],
      "metadata": {
        "id": "c4ncQ21ZsYfh"
      }
    },
    {
      "cell_type": "code",
      "source": [
        "from sklearn.model_selection import train_test_split\n",
        "from sklearn.linear_model import LogisticRegression\n",
        "from sklearn.ensemble import RandomForestClassifier, GradientBoostingClassifier\n",
        "from sklearn.metrics import accuracy_score, classification_report\n",
        "from sklearn.model_selection import cross_val_score\n",
        "import numpy as np\n",
        "\n",
        "# Dividir os dados\n",
        "X_train, X_test, y_train, y_test = train_test_split(X, y, test_size=0.2, random_state=42)\n",
        "\n",
        "print(\"Validação Cruzada para cada um dos modelos antes do treinamento\")\n",
        "# Validação cruzada para Regressão Logística\n",
        "cv_scores_lr = cross_val_score(LogisticRegression(max_iter=1000), X_train, y_train, cv=5, scoring='accuracy')\n",
        "print(\"\\nAcurácia Regressão Logística (CV): {:.2f} ± {:.2f}\".format(np.mean(cv_scores_lr), np.std(cv_scores_lr)))\n",
        "\n",
        "# Validação cruzada para Random Forest\n",
        "cv_scores_rf = cross_val_score(RandomForestClassifier(n_estimators=200, max_depth=10, random_state=42), X_train, y_train, cv=5, scoring='accuracy')\n",
        "print(\"Acurácia Random Forest (CV): {:.2f} ± {:.2f}\".format(np.mean(cv_scores_rf), np.std(cv_scores_rf)))\n",
        "\n",
        "# Validação cruzada para Gradient Boosting\n",
        "cv_scores_gb = cross_val_score(GradientBoostingClassifier(n_estimators=100, random_state=42), X_train, y_train, cv=5, scoring='accuracy')\n",
        "print(\"Acurácia Gradient Boosting (CV): {:.2f} ± {:.2f}\".format(np.mean(cv_scores_gb), np.std(cv_scores_gb)))\n",
        "\n",
        "# Modelo base: Regressão Logística\n",
        "log_reg = LogisticRegression(max_iter=1000)\n",
        "log_reg.fit(X_train, y_train)\n",
        "y_pred_log = log_reg.predict(X_test)\n",
        "print(\"\\nAcurácia Regressão Logística:\", accuracy_score(y_test, y_pred_log))\n",
        "\n",
        "# Random Forest\n",
        "rf = RandomForestClassifier(n_estimators=200, max_depth=10, random_state=42)\n",
        "rf.fit(X_train, y_train)\n",
        "y_pred_rf = rf.predict(X_test)\n",
        "print(\"Acurácia Random Forest:\", accuracy_score(y_test, y_pred_rf))\n",
        "\n",
        "# Gradient Boosting\n",
        "gb = GradientBoostingClassifier(n_estimators=100, random_state=42)\n",
        "gb.fit(X_train, y_train)\n",
        "y_pred_gb = gb.predict(X_test)\n",
        "print(\"Acurácia Gradient Boosting:\", accuracy_score(y_test, y_pred_gb))"
      ],
      "metadata": {
        "colab": {
          "base_uri": "https://localhost:8080/"
        },
        "id": "YUCYPOlwrs9V",
        "outputId": "61141206-11ff-42f6-b6da-4a535c4c96b9"
      },
      "execution_count": 25,
      "outputs": [
        {
          "output_type": "stream",
          "name": "stdout",
          "text": [
            "Validação Cruzada para cada um dos modelos antes do treinamento\n",
            "\n",
            "Acurácia Regressão Logística (CV): 0.97 ± 0.05\n",
            "Acurácia Random Forest (CV): 0.95 ± 0.06\n",
            "Acurácia Gradient Boosting (CV): 0.94 ± 0.06\n",
            "\n",
            "Acurácia Regressão Logística: 1.0\n",
            "Acurácia Random Forest: 1.0\n",
            "Acurácia Gradient Boosting: 1.0\n"
          ]
        }
      ]
    },
    {
      "cell_type": "markdown",
      "source": [
        "4. Ajuste de Hiperparâmetros\n",
        "- Usar GridSearchCV para otimizar o Random Forest."
      ],
      "metadata": {
        "id": "McZTxi5Ssblj"
      }
    },
    {
      "cell_type": "code",
      "source": [
        "from sklearn.model_selection import GridSearchCV\n",
        "\n",
        "param_grid = {\n",
        "    'n_estimators': [50, 100, 200],\n",
        "    'max_depth': [None, 10, 20]\n",
        "}\n",
        "grid_search = GridSearchCV(RandomForestClassifier(random_state=42), param_grid, cv=5)\n",
        "grid_search.fit(X_train, y_train)\n",
        "print(\"Melhores parâmetros:\", grid_search.best_params_)\n",
        "print(\"Melhor acurácia:\", grid_search.best_score_)"
      ],
      "metadata": {
        "colab": {
          "base_uri": "https://localhost:8080/"
        },
        "id": "DhKeAcodrxXJ",
        "outputId": "f4aaa3cc-195d-438b-aeb5-212784e115e7"
      },
      "execution_count": 26,
      "outputs": [
        {
          "output_type": "stream",
          "name": "stdout",
          "text": [
            "Melhores parâmetros: {'max_depth': None, 'n_estimators': 200}\n",
            "Melhor acurácia: 0.95\n"
          ]
        }
      ]
    },
    {
      "cell_type": "markdown",
      "source": [
        "5. Ensemble Learning\n",
        "- Combinar previsões com VotingClassifier."
      ],
      "metadata": {
        "id": "anoIlWSqsgaH"
      }
    },
    {
      "cell_type": "code",
      "source": [
        "from sklearn.ensemble import VotingClassifier\n",
        "\n",
        "voting_clf = VotingClassifier(\n",
        "    estimators=[('rf', rf), ('gb', gb), ('lr', log_reg)],\n",
        "    voting='hard'\n",
        ")\n",
        "voting_clf.fit(X_train, y_train)\n",
        "y_pred_voting = voting_clf.predict(X_test)\n",
        "print(\"Acurácia Voting Classifier:\", accuracy_score(y_test, y_pred_voting))"
      ],
      "metadata": {
        "colab": {
          "base_uri": "https://localhost:8080/"
        },
        "id": "Bpx9tofFr3WX",
        "outputId": "3896994e-f5be-4c1b-e0c1-741af1885b63"
      },
      "execution_count": 27,
      "outputs": [
        {
          "output_type": "stream",
          "name": "stdout",
          "text": [
            "Acurácia Voting Classifier: 1.0\n"
          ]
        }
      ]
    },
    {
      "cell_type": "markdown",
      "source": [
        "6. Avaliação e Visualização\n",
        "- Matriz de confusão e métricas detalhadas."
      ],
      "metadata": {
        "id": "SGcpV3cAskO9"
      }
    },
    {
      "cell_type": "code",
      "source": [
        "from sklearn.metrics import confusion_matrix, ConfusionMatrixDisplay\n",
        "\n",
        "cm = confusion_matrix(y_test, y_pred_gb)\n",
        "disp = ConfusionMatrixDisplay(confusion_matrix=cm)\n",
        "disp.plot()\n",
        "plt.title('Matriz de Confusão - Gradient Boosting')\n",
        "plt.show()\n",
        "\n",
        "print(classification_report(y_test, y_pred_gb))"
      ],
      "metadata": {
        "colab": {
          "base_uri": "https://localhost:8080/",
          "height": 646
        },
        "id": "8_tekRaGsmLb",
        "outputId": "34168cfa-baba-42a9-fb5b-32705bd903de"
      },
      "execution_count": 28,
      "outputs": [
        {
          "output_type": "display_data",
          "data": {
            "text/plain": [
              "<Figure size 640x480 with 2 Axes>"
            ],
            "image/png": "[encoded data removed]"
          },
          "metadata": {}
        },
        {
          "output_type": "stream",
          "name": "stdout",
          "text": [
            "              precision    recall  f1-score   support\n",
            "\n",
            "      setosa       1.00      1.00      1.00        10\n",
            "  versicolor       1.00      1.00      1.00         9\n",
            "   virginica       1.00      1.00      1.00        11\n",
            "\n",
            "    accuracy                           1.00        30\n",
            "   macro avg       1.00      1.00      1.00        30\n",
            "weighted avg       1.00      1.00      1.00        30\n",
            "\n"
          ]
        }
      ]
    },
    {
      "cell_type": "markdown",
      "source": [
        "## Exercício"
      ],
      "metadata": {
        "id": "9qvxpCP_so6J"
      }
    },
    {
      "cell_type": "markdown",
      "source": [
        "### Exercício complementar opcional\n",
        "Aplique o mesmo processo a outro dataset de classificação, como o Iris (`sns.load_dataset('iris')`).\n",
        "\n",
        "Utilizando o dataset Iris no primeiro momento, todos os modelos apresentaram uma acurácia de 100%, o que me surpreendeu. Então, decidi aplicar a validação cruzada com 5 folds para cada modelo antes do treinamento propriamente dito. Depois de separar os dados de treino e teste, o resultado para cada modelo foi:\n",
        "Acurácia Regressão Logística (CV): 0,97 ± 0,05\n",
        "Acurácia Random Forest (CV): 0,95 ± 0,06\n",
        "Acurácia Gradient Boosting (CV): 0,94 ± 0,06\n",
        "Isso indica que o modelo de regressão logística foi o que teve melhor desempenho, com média de 0,97 e desvio padrão de 0,05, demonstrando sua consistência nesses testes de validação cruzada. Esse resultado não difere muito da acurácia obtida no conjunto de teste depois do treinamento, que foi de 100%, o que reforça que se trata de um modelo consistente e com boa capacidade para classificar essas espécies de plantas."
      ],
      "metadata": {
        "id": "Yw1tqc5LxglV"
      }
    }
  ]
}