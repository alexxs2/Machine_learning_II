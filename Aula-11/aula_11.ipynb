{
  "nbformat": 4,
  "nbformat_minor": 0,
  "metadata": {
    "colab": {
      "provenance": []
    },
    "kernelspec": {
      "name": "python3",
      "display_name": "Python 3"
    },
    "language_info": {
      "name": "python"
    }
  },
  "cells": [
    {
      "source": [
        "import requests\n",
        "import json\n",
        "\n",
        "chave = \"Minha Chave\"\n",
        "url = f\"https://generativelanguage.googleapis.com/v1beta/models/gemini-2.0-flash:generateContent?key={chave}\"\n",
        "\n",
        "def chamar_ia(prompt):\n",
        "    payload = {\n",
        "        \"contents\": [\n",
        "            {\n",
        "                \"parts\": [\n",
        "                    {\"text\": prompt}\n",
        "                ]\n",
        "            }\n",
        "        ]\n",
        "    }\n",
        "\n",
        "    headers = {\n",
        "        \"Content-Type\": \"application/json\"\n",
        "    }\n",
        "\n",
        "    response = requests.post(url, headers=headers, json=payload)\n",
        "\n",
        "    if response.status_code == 200:\n",
        "        data = response.json()\n",
        "        if \"candidates\" in data and len(data[\"candidates\"]) > 0:\n",
        "            if 'content' in data['candidates'][0]:\n",
        "                if 'parts' in data['candidates'][0]['content'] and len(data['candidates'][0]['content']['parts']) > 0:\n",
        "                    return data['candidates'][0]['content']['parts'][0]['text']\n",
        "            else:\n",
        "                return \"Resposta inesperada: A chave 'content' não foi encontrada na resposta.\"\n",
        "        else:\n",
        "            return \"Resposta inesperada: \" + str(data)\n",
        "    else:\n",
        "        return f\"Erro ao chamar a API: {response.status_code} -> {response.text}\"\n",
        "\n",
        "prompt_detalhado = str(input(\n",
        "\n",
        "))\n",
        "resposta_detalhada = chamar_ia(prompt_detalhado)\n",
        "\n",
        "prompt_resumido = (\n",
        "    \"Com base na explicação abaixo, extraia a ideia principal e responda de forma resumida e objetiva:\\n\\n\"\n",
        "    f\"{resposta_detalhada}\"\n",
        ")\n",
        "resposta_final = chamar_ia(prompt_resumido)\n",
        "\n",
        "print(\"\\nResposta Final Resumida e Objetiva:\")\n",
        "print(resposta_final)"
      ],
      "cell_type": "code",
      "metadata": {
        "colab": {
          "base_uri": "https://localhost:8080/"
        },
        "id": "SfILtbgM3Cg1",
        "outputId": "d3876836-5d4f-47b1-d355-5ebf26073847"
      },
      "execution_count": 7,
      "outputs": [
        {
          "output_type": "stream",
          "name": "stdout",
          "text": [
            "o que é Ciência de Dados ?\n",
            "\n",
            "Resposta Final Resumida e Objetiva:\n",
            "A Ciência de Dados é um campo multidisciplinar que usa métodos científicos, algoritmos e sistemas para transformar dados brutos em informações úteis, auxiliando na tomada de decisões em diversas áreas.\n",
            "\n"
          ]
        }
      ]
    }
  ]
}